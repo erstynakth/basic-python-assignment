{
  "nbformat": 4,
  "nbformat_minor": 0,
  "metadata": {
    "colab": {
      "name": "1305619017-Erstyna.ipynb",
      "provenance": [],
      "collapsed_sections": []
    },
    "kernelspec": {
      "name": "python3",
      "display_name": "Python 3"
    },
    "language_info": {
      "name": "python"
    }
  },
  "cells": [
    {
      "cell_type": "markdown",
      "source": [
        "##Topic 3 - Python Structure & Data Type Assignment\n"
      ],
      "metadata": {
        "id": "f6LjKU50-tD8"
      }
    },
    {
      "cell_type": "markdown",
      "source": [
        "# Data Type Declaration"
      ],
      "metadata": {
        "id": "MPuR878HZEbx"
      }
    },
    {
      "cell_type": "markdown",
      "source": [
        "1. > Create an empty variable (Points : 5)"
      ],
      "metadata": {
        "id": "GyS5I54D-3K9"
      }
    },
    {
      "cell_type": "code",
      "source": [
        "variable=\"\"\n",
        "print(variable)"
      ],
      "metadata": {
        "id": "jehesBY-_aKL",
        "colab": {
          "base_uri": "https://localhost:8080/"
        },
        "outputId": "8a6b0d78-96e6-475c-e0ea-3ba5ba7f0619"
      },
      "execution_count": 53,
      "outputs": [
        {
          "output_type": "stream",
          "name": "stdout",
          "text": [
            "\n"
          ]
        }
      ]
    },
    {
      "cell_type": "markdown",
      "source": [
        "2. > Create a variable containing your name (Points : 5)"
      ],
      "metadata": {
        "id": "6zCz3qZ8_bu2"
      }
    },
    {
      "cell_type": "code",
      "source": [
        "nama=\"Erstyna\"\n",
        "print(nama)"
      ],
      "metadata": {
        "id": "1wT8jnI6_f-U",
        "colab": {
          "base_uri": "https://localhost:8080/"
        },
        "outputId": "d9ac7975-32f2-4f62-e6e9-b747b79ec74b"
      },
      "execution_count": 54,
      "outputs": [
        {
          "output_type": "stream",
          "name": "stdout",
          "text": [
            "Erstyna\n"
          ]
        }
      ]
    },
    {
      "cell_type": "markdown",
      "source": [
        "3. > Create a list of 5 items you can find in the classroom (Points : 5)"
      ],
      "metadata": {
        "id": "ApatE8m__2Ud"
      }
    },
    {
      "cell_type": "code",
      "source": [
        "classroom = [\"meja\",\"kursi\",\"buku\",\"pulpen\",\"spidol\"]\n",
        "print(classroom)"
      ],
      "metadata": {
        "id": "-Q0Ynqx1_6hF",
        "colab": {
          "base_uri": "https://localhost:8080/"
        },
        "outputId": "bbc3d84b-bad2-4ab4-c584-4eba8c1bf68b"
      },
      "execution_count": 2,
      "outputs": [
        {
          "output_type": "stream",
          "name": "stdout",
          "text": [
            "['meja', 'kursi', 'buku', 'pulpen', 'spidol']\n"
          ]
        }
      ]
    },
    {
      "cell_type": "markdown",
      "source": [
        "4. > Create a dictionary containing 2 keys and value (Points : 5)"
      ],
      "metadata": {
        "id": "6FwMmy_9AS5N"
      }
    },
    {
      "cell_type": "code",
      "source": [
        "fruits = {\n",
        "    'name': 'melon',\n",
        "    'color': 'green'\n",
        "}\n",
        "\n",
        "fruits"
      ],
      "metadata": {
        "id": "xLc2AlhtASOm",
        "colab": {
          "base_uri": "https://localhost:8080/"
        },
        "outputId": "20494d3f-c4ae-4409-9a49-d498f60d2cf2"
      },
      "execution_count": 52,
      "outputs": [
        {
          "output_type": "execute_result",
          "data": {
            "text/plain": [
              "{'color': 'green', 'name': 'melon'}"
            ]
          },
          "metadata": {},
          "execution_count": 52
        }
      ]
    },
    {
      "cell_type": "markdown",
      "source": [
        "# Basic Data Operation"
      ],
      "metadata": {
        "id": "6AqPfAS7a1Oi"
      }
    },
    {
      "cell_type": "markdown",
      "source": [
        "You sold 20 pieces of electronics at the price of 12000. The customer gets a total discount of 10%.\n",
        "\n",
        "Below are those variables:\n",
        "\n",
        "1.   price=12000\n",
        "2.   quantity_sold=20\n",
        "3.   discount=10%\n",
        "\n",
        "\n",
        "Using Python code, write the code the find the total money that the customer to pay. (Points : 15)"
      ],
      "metadata": {
        "id": "-ZZF1cXlbqkJ"
      }
    },
    {
      "cell_type": "code",
      "source": [
        "price = 12000\n",
        "quantity_sold = 20\n",
        "discount = 10/100\n",
        "\n",
        "total = price*quantity_sold - price*quantity_sold*discount\n",
        "print(total)"
      ],
      "metadata": {
        "id": "90T0A2HvbcCK",
        "colab": {
          "base_uri": "https://localhost:8080/"
        },
        "outputId": "0e9daa4d-c1aa-42c8-8095-fe0b3dc2a6ca"
      },
      "execution_count": 29,
      "outputs": [
        {
          "output_type": "stream",
          "name": "stdout",
          "text": [
            "216000.0\n"
          ]
        }
      ]
    },
    {
      "cell_type": "markdown",
      "source": [
        "# List Data Operation"
      ],
      "metadata": {
        "id": "G-HHsg4la6mJ"
      }
    },
    {
      "cell_type": "markdown",
      "source": [
        "5. > Follow the instructions in the code blocks\n",
        "\n",
        "\n",
        "\n"
      ],
      "metadata": {
        "id": "NdoSjVZ4Zbqg"
      }
    },
    {
      "cell_type": "code",
      "source": [
        "# Create list of countries in the world (total 7 countries) (Points : 5)\n",
        "\n",
        "countries = ['Indonesia', 'Malaysia', 'Singapore', 'America', 'India', 'Japan', 'Thailand']"
      ],
      "metadata": {
        "id": "xsFxlZGLaQ7y"
      },
      "execution_count": 62,
      "outputs": []
    },
    {
      "cell_type": "code",
      "source": [
        "# Get 4 countries from the first index of the list (Points : 5)\n",
        "\n",
        "countries[:4]"
      ],
      "metadata": {
        "id": "6Se125DabJ6R",
        "colab": {
          "base_uri": "https://localhost:8080/"
        },
        "outputId": "2c7e2a43-463e-4180-d105-46c95bc9df38"
      },
      "execution_count": 30,
      "outputs": [
        {
          "output_type": "execute_result",
          "data": {
            "text/plain": [
              "['Indonesia', 'Malaysia', 'Singapore', 'America']"
            ]
          },
          "metadata": {},
          "execution_count": 30
        }
      ]
    },
    {
      "cell_type": "code",
      "source": [
        "# Append new country to the list (Points : 5)\n",
        "\n",
        "countries.append('Turkey')\n",
        "countries"
      ],
      "metadata": {
        "id": "FSU5QfExbKAh",
        "colab": {
          "base_uri": "https://localhost:8080/"
        },
        "outputId": "1767f95e-3481-4885-805c-57853efeb56f"
      },
      "execution_count": 63,
      "outputs": [
        {
          "output_type": "execute_result",
          "data": {
            "text/plain": [
              "['Indonesia',\n",
              " 'Malaysia',\n",
              " 'Singapore',\n",
              " 'America',\n",
              " 'India',\n",
              " 'Japan',\n",
              " 'Thailand',\n",
              " 'Turkey']"
            ]
          },
          "metadata": {},
          "execution_count": 63
        }
      ]
    },
    {
      "cell_type": "code",
      "source": [
        "# Drop one country from the list (Points : 5)\n",
        "\n",
        "countries.remove('India')\n",
        "countries"
      ],
      "metadata": {
        "id": "DlvXbKlnbKGR",
        "colab": {
          "base_uri": "https://localhost:8080/"
        },
        "outputId": "1fc7388b-9e8a-4efa-89c2-7cbc7a45e120"
      },
      "execution_count": 64,
      "outputs": [
        {
          "output_type": "execute_result",
          "data": {
            "text/plain": [
              "['Indonesia',\n",
              " 'Malaysia',\n",
              " 'Singapore',\n",
              " 'America',\n",
              " 'Japan',\n",
              " 'Thailand',\n",
              " 'Turkey']"
            ]
          },
          "metadata": {},
          "execution_count": 64
        }
      ]
    },
    {
      "cell_type": "code",
      "source": [
        "# Get country in the last index (Points : 5)\n",
        "\n",
        "countries[6]"
      ],
      "metadata": {
        "id": "F1NJ6JCQbKJ7",
        "colab": {
          "base_uri": "https://localhost:8080/",
          "height": 35
        },
        "outputId": "29544e72-58e5-4df3-ef4e-c5b60798aaba"
      },
      "execution_count": 65,
      "outputs": [
        {
          "output_type": "execute_result",
          "data": {
            "text/plain": [
              "'Turkey'"
            ],
            "application/vnd.google.colaboratory.intrinsic+json": {
              "type": "string"
            }
          },
          "metadata": {},
          "execution_count": 65
        }
      ]
    },
    {
      "cell_type": "markdown",
      "source": [
        "# Dictionary Data Operation"
      ],
      "metadata": {
        "id": "Kfkq-SmIdJR6"
      }
    },
    {
      "cell_type": "markdown",
      "source": [
        "6. >  Follow the instructions below\n",
        "\n",
        "\n",
        "\n"
      ],
      "metadata": {
        "id": "WyJ8CJzdeMiS"
      }
    },
    {
      "cell_type": "code",
      "source": [
        "# Given the dictionary below\n",
        "\n",
        "customer={\n",
        "    \"name\":['Dio','Eka','Wayu','Riki'],\n",
        "    \"age\":[20,19,24,39],\n",
        "    \"gender\":[1,0,0,1],\n",
        "    \"membership\":['Platinum','Gold','Silver','Silver']\n",
        "}"
      ],
      "metadata": {
        "id": "fVHYIKLwdMfq"
      },
      "execution_count": 48,
      "outputs": []
    },
    {
      "cell_type": "code",
      "source": [
        "# Print all keys in customer (Points : 5)\n",
        "\n",
        "dict.keys(customer)"
      ],
      "metadata": {
        "id": "LpRVtz4_eJK5",
        "colab": {
          "base_uri": "https://localhost:8080/"
        },
        "outputId": "bace91a5-07c6-4a30-fdea-909f880cbcec"
      },
      "execution_count": 37,
      "outputs": [
        {
          "output_type": "execute_result",
          "data": {
            "text/plain": [
              "dict_keys(['name', 'age', 'gender', 'membership'])"
            ]
          },
          "metadata": {},
          "execution_count": 37
        }
      ]
    },
    {
      "cell_type": "code",
      "source": [
        "# Print all customer names (Points : 5)\n",
        "\n",
        "customer['name']"
      ],
      "metadata": {
        "id": "QiEMM94FeYrz",
        "colab": {
          "base_uri": "https://localhost:8080/"
        },
        "outputId": "4ba2e1aa-e519-4ef5-becb-177143659b4b"
      },
      "execution_count": 39,
      "outputs": [
        {
          "output_type": "execute_result",
          "data": {
            "text/plain": [
              "['Dio', 'Eka', 'Wayu', 'Riki']"
            ]
          },
          "metadata": {},
          "execution_count": 39
        }
      ]
    },
    {
      "cell_type": "code",
      "source": [
        "# Print the first customer name (Points : 5)\n",
        "\n",
        "customer['name'][0]"
      ],
      "metadata": {
        "id": "P2SeErUGgQ-D",
        "colab": {
          "base_uri": "https://localhost:8080/",
          "height": 35
        },
        "outputId": "2745fe13-b3bc-4c01-afc9-4855af6f4972"
      },
      "execution_count": 40,
      "outputs": [
        {
          "output_type": "execute_result",
          "data": {
            "text/plain": [
              "'Dio'"
            ],
            "application/vnd.google.colaboratory.intrinsic+json": {
              "type": "string"
            }
          },
          "metadata": {},
          "execution_count": 40
        }
      ]
    },
    {
      "cell_type": "code",
      "source": [
        "# Drop \"age\" key from the dictionary (Points : 5)\n",
        "\n",
        "del customer['age']\n",
        "customer"
      ],
      "metadata": {
        "id": "c3PlmHxueiPy",
        "colab": {
          "base_uri": "https://localhost:8080/"
        },
        "outputId": "8231e3f0-976b-4658-960c-1e86458acae5"
      },
      "execution_count": 50,
      "outputs": [
        {
          "output_type": "execute_result",
          "data": {
            "text/plain": [
              "{'gender': [1, 0, 0, 1],\n",
              " 'membership': ['Platinum', 'Gold', 'Silver', 'Silver'],\n",
              " 'name': ['Dio', 'Eka', 'Wayu', 'Riki']}"
            ]
          },
          "metadata": {},
          "execution_count": 50
        }
      ]
    },
    {
      "cell_type": "code",
      "source": [
        "# Replace customer gender list value (Points : 20)\n",
        "# gender 1 => Male\n",
        "# gender 0 => Female \n",
        "\n",
        "\n",
        "customer['gender'] = ['Male','Female','Female','Male']\n",
        "customer"
      ],
      "metadata": {
        "id": "FgXDh9mIea9x",
        "colab": {
          "base_uri": "https://localhost:8080/"
        },
        "outputId": "8d025f6f-b6bb-4caf-90e1-36d67247b492"
      },
      "execution_count": 51,
      "outputs": [
        {
          "output_type": "execute_result",
          "data": {
            "text/plain": [
              "{'gender': ['Male', 'Female', 'Female', 'Male'],\n",
              " 'membership': ['Platinum', 'Gold', 'Silver', 'Silver'],\n",
              " 'name': ['Dio', 'Eka', 'Wayu', 'Riki']}"
            ]
          },
          "metadata": {},
          "execution_count": 51
        }
      ]
    }
  ]
}